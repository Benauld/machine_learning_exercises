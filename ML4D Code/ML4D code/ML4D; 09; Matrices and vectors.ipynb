{
 "cells": [
  {
   "cell_type": "markdown",
   "metadata": {},
   "source": [
    "# Demystifying the Math Behind Machine Learning"
   ]
  },
  {
   "cell_type": "code",
   "execution_count": 1,
   "metadata": {
    "collapsed": false
   },
   "outputs": [
    {
     "name": "stdout",
     "output_type": "stream",
     "text": [
      "[44 21 37]\n",
      "(3,)\n"
     ]
    }
   ],
   "source": [
    "import numpy as np\n",
    "y = np.array([44,21,37])\n",
    "print (y)\n",
    "print (y.shape)"
   ]
  },
  {
   "cell_type": "code",
   "execution_count": 2,
   "metadata": {
    "collapsed": false
   },
   "outputs": [
    {
     "name": "stdout",
     "output_type": "stream",
     "text": [
      "[[   1.1    1.   545.     1. ]\n",
      " [   4.6    0.   345.     2. ]\n",
      " [   7.2    1.   754.     3. ]]\n"
     ]
    }
   ],
   "source": [
    "X = np.array([[1.1, 1, 545, 1],[4.6, 0, 345, 2],\n",
    "              [7.2, 1, 754, 3]])\n",
    "print (X)"
   ]
  },
  {
   "cell_type": "code",
   "execution_count": 3,
   "metadata": {
    "collapsed": false
   },
   "outputs": [
    {
     "name": "stdout",
     "output_type": "stream",
     "text": [
      "[[   1.1    1.   545.     1. ]\n",
      " [   4.6    0.   345.     2. ]\n",
      " [   7.2    1.   754.     3. ]]\n"
     ]
    }
   ],
   "source": [
    "X = np.array([1.1, 1, 545, 1, 4.6, 0, 345, 2, \n",
    "              7.2, 1, 754, 3]).reshape(3,4)\n",
    "print(X)"
   ]
  },
  {
   "cell_type": "code",
   "execution_count": 4,
   "metadata": {
    "collapsed": false
   },
   "outputs": [
    {
     "name": "stdout",
     "output_type": "stream",
     "text": [
      "[[ 0  1]\n",
      " [ 1 -1]]\n"
     ]
    }
   ],
   "source": [
    "a = np.array([[1, 1],[1, 0]]) \n",
    "b = np.array([[1, 0],[0, 1]])\n",
    "print (a - b)"
   ]
  },
  {
   "cell_type": "code",
   "execution_count": 5,
   "metadata": {
    "collapsed": false
   },
   "outputs": [
    {
     "name": "stdout",
     "output_type": "stream",
     "text": [
      "[[ 0 -2]\n",
      " [-2  2]]\n"
     ]
    }
   ],
   "source": [
    "a = np.array([[0, 1],[1, -1]])\n",
    "print (a * -2)"
   ]
  },
  {
   "cell_type": "code",
   "execution_count": 6,
   "metadata": {
    "collapsed": false
   },
   "outputs": [
    {
     "name": "stdout",
     "output_type": "stream",
     "text": [
      "[ 2 -2  3]\n"
     ]
    }
   ],
   "source": [
    "X = np.array([[4, 5],[2, 4],[3, 3]])\n",
    "b = np.array([3,-2])\n",
    "print(np.dot(X, b))"
   ]
  },
  {
   "cell_type": "code",
   "execution_count": 7,
   "metadata": {
    "collapsed": false
   },
   "outputs": [
    {
     "name": "stdout",
     "output_type": "stream",
     "text": [
      "[[ 2 17]\n",
      " [-2 16]\n",
      " [ 3  9]]\n"
     ]
    }
   ],
   "source": [
    "B = np.array([[3, -2],[-2, 5]])\n",
    "print (np.dot(X, B))"
   ]
  },
  {
   "cell_type": "code",
   "execution_count": 8,
   "metadata": {
    "collapsed": false
   },
   "outputs": [
    {
     "data": {
      "text/plain": [
       "array([[4, 2, 3],\n",
       "       [5, 4, 3]])"
      ]
     },
     "execution_count": 8,
     "metadata": {},
     "output_type": "execute_result"
    }
   ],
   "source": [
    "X.transpose()"
   ]
  }
 ],
 "metadata": {
  "kernelspec": {
   "display_name": "Python 3",
   "language": "python",
   "name": "python3"
  },
  "language_info": {
   "codemirror_mode": {
    "name": "ipython",
    "version": 3
   },
   "file_extension": ".py",
   "mimetype": "text/x-python",
   "name": "python",
   "nbconvert_exporter": "python",
   "pygments_lexer": "ipython3",
   "version": "3.4.4"
  }
 },
 "nbformat": 4,
 "nbformat_minor": 0
}
