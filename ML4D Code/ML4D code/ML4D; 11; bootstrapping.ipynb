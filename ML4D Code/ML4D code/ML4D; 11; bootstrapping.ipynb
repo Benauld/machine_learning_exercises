{
 "cells": [
  {
   "cell_type": "markdown",
   "metadata": {
    "collapsed": true
   },
   "source": [
    "## Bootstrapping"
   ]
  },
  {
   "cell_type": "code",
   "execution_count": 3,
   "metadata": {
    "collapsed": false
   },
   "outputs": [
    {
     "name": "stdout",
     "output_type": "stream",
     "text": [
      "Out-of-boostrap: 36.8 %\n"
     ]
    }
   ],
   "source": [
    "from random import randint\n",
    "import numpy as np\n",
    "n = 1000 # number of examples\n",
    "# your original set of examples\n",
    "examples = set(range(n)) \n",
    "results = list()\n",
    "for j in range(10000):\n",
    "    #  your boostrapped sample\n",
    "    choosen = [randint(0,n) for k in range(n)]\n",
    "    # out-of-sample\n",
    "    results.append((1000-len(set(choosen)&examples))\n",
    "                   /float(n)) \n",
    "print (\"Out-of-boostrap: %0.1f %%\" % \n",
    "       (np.mean(results)*100))"
   ]
  }
 ],
 "metadata": {
  "kernelspec": {
   "display_name": "Python 3",
   "language": "python",
   "name": "python3"
  },
  "language_info": {
   "codemirror_mode": {
    "name": "ipython",
    "version": 3
   },
   "file_extension": ".py",
   "mimetype": "text/x-python",
   "name": "python",
   "nbconvert_exporter": "python",
   "pygments_lexer": "ipython3",
   "version": "3.4.4"
  }
 },
 "nbformat": 4,
 "nbformat_minor": 0
}
