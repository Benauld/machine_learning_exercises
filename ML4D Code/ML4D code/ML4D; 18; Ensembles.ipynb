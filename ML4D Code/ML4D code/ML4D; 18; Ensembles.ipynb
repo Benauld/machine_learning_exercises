{
 "cells": [
  {
   "cell_type": "markdown",
   "metadata": {},
   "source": [
    "# Resorting to Ensembles of Learners"
   ]
  },
  {
   "cell_type": "markdown",
   "metadata": {},
   "source": [
    "## Effect of more trees on a Random Forest"
   ]
  },
  {
   "cell_type": "code",
   "execution_count": 1,
   "metadata": {
    "collapsed": false
   },
   "outputs": [],
   "source": [
    "import numpy as np\n",
    "from sklearn import datasets\n",
    "from sklearn.learning_curve import validation_curve\n",
    "from sklearn.ensemble import RandomForestClassifier\n",
    "\n",
    "digits = datasets.load_digits()\n",
    "X,y = digits.data, digits.target\n",
    "series = [10, 25, 50, 100, 150, 200, 250, 300]\n",
    "RF = RandomForestClassifier(random_state=101)\n",
    "train_scores, test_scores = validation_curve(RF, \n",
    "        X, y, 'n_estimators', param_range=series,\n",
    "            cv=10, scoring='accuracy',n_jobs=-1)"
   ]
  },
  {
   "cell_type": "code",
   "execution_count": 2,
   "metadata": {
    "collapsed": false
   },
   "outputs": [
    {
     "data": {
      "image/png": "[encoded data removed]",
      "text/plain": [
       "<matplotlib.figure.Figure at 0x488bda0>"
      ]
     },
     "metadata": {},
     "output_type": "display_data"
    }
   ],
   "source": [
    "import matplotlib.pyplot as plt\n",
    "%matplotlib inline\n",
    "plt.figure()\n",
    "plt.plot(series, np.mean(test_scores,axis=1), '-o') \n",
    "plt.xlabel('number of trees')\n",
    "plt.ylabel('accuracy')\n",
    "plt.grid()\n",
    "plt.show() "
   ]
  },
  {
   "cell_type": "markdown",
   "metadata": {},
   "source": [
    "# Adaboost with different base learners"
   ]
  },
  {
   "cell_type": "code",
   "execution_count": 3,
   "metadata": {
    "collapsed": false
   },
   "outputs": [
    {
     "name": "stdout",
     "output_type": "stream",
     "text": [
      "Decision trees: 0.829\n",
      "Perceptron: 0.892\n",
      "Naive Bayes: 0.802\n"
     ]
    }
   ],
   "source": [
    "import numpy as np\n",
    "from sklearn.ensemble import AdaBoostClassifier\n",
    "from sklearn.tree import DecisionTreeClassifier\n",
    "from sklearn.linear_model import Perceptron\n",
    "from sklearn.naive_bayes import BernoulliNB\n",
    "from sklearn.cross_validation import cross_val_score\n",
    "from sklearn import datasets\n",
    "digits = datasets.load_digits()\n",
    "X,y = digits.data, digits.target\n",
    "\n",
    "DT = cross_val_score(AdaBoostClassifier(DecisionTreeClassifier(), \n",
    "                    random_state=101) ,X, y, scoring='accuracy',cv=10)\n",
    "P = cross_val_score(AdaBoostClassifier(Perceptron(), random_state=101,\n",
    "                    algorithm='SAMME') ,X, y, scoring='accuracy',cv=10)\n",
    "NB = cross_val_score(AdaBoostClassifier(BernoulliNB(), random_state=101)\n",
    "                      ,X,y,scoring='accuracy',cv=10)\n",
    "\n",
    "print (\"Decision trees: %0.3f\\nPerceptron: %0.3f\\nNaive Bayes: %0.3f\" % \n",
    "       (np.mean(DT),np.mean(P), np.mean(NB)))"
   ]
  },
  {
   "cell_type": "markdown",
   "metadata": {},
   "source": [
    "# Testing Gradient boosting performance"
   ]
  },
  {
   "cell_type": "code",
   "execution_count": 4,
   "metadata": {
    "collapsed": false
   },
   "outputs": [
    {
     "name": "stdout",
     "output_type": "stream",
     "text": [
      "GBM: 0.950\n"
     ]
    }
   ],
   "source": [
    "import numpy as np\n",
    "from sklearn.ensemble import GradientBoostingClassifier\n",
    "from sklearn.cross_validation import cross_val_score\n",
    "from sklearn import datasets\n",
    "digits = datasets.load_digits()\n",
    "X,y = digits.data, digits.target\n",
    "\n",
    "GBM = cross_val_score(GradientBoostingClassifier(n_estimators=300,\n",
    "                subsample=0.8, max_depth=2, learning_rate=0.1,\n",
    "                random_state=101), X, y, scoring='accuracy',cv=10)\n",
    "\n",
    "print (\"GBM: %0.3f\" % (np.mean(GBM)))"
   ]
  }
 ],
 "metadata": {
  "kernelspec": {
   "display_name": "Python 3",
   "language": "python",
   "name": "python3"
  },
  "language_info": {
   "codemirror_mode": {
    "name": "ipython",
    "version": 3
   },
   "file_extension": ".py",
   "mimetype": "text/x-python",
   "name": "python",
   "nbconvert_exporter": "python",
   "pygments_lexer": "ipython3",
   "version": "3.4.4"
  }
 },
 "nbformat": 4,
 "nbformat_minor": 0
}
